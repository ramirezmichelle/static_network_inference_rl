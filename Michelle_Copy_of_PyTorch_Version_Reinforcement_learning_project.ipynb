{
  "cells": [
    {
      "cell_type": "code",
      "execution_count": null,
      "metadata": {
        "id": "YwKjz60euVtW"
      },
      "outputs": [],
      "source": [
        "# !pip install --upgrade tensorflow\n",
        "# !pip install --upgrade numpy\n",
        "\n",
        "# !pip install stable-baselines\n",
        "# !pip install stable-baselines[mpi]\n",
        "# !pip install gym"
      ]
    },
    {
      "cell_type": "code",
      "source": [
        "!pip install karateclub\n",
        "# import karateclub"
      ],
      "metadata": {
        "id": "ykD0AbAuTJRq"
      },
      "execution_count": null,
      "outputs": []
    },
    {
      "cell_type": "code",
      "execution_count": null,
      "metadata": {
        "id": "6U9DKJP1-0cZ"
      },
      "outputs": [],
      "source": [
        "import numpy as np\n",
        "# import tensorflow as tf\n",
        "from google.colab import files\n",
        "import networkx as nx\n",
        "import pandas as pd\n",
        "\n",
        "from sklearn.model_selection import train_test_split\n",
        "from sklearn.utils.class_weight import compute_class_weight\n",
        "from sklearn.preprocessing import MultiLabelBinarizer\n",
        "from sklearn.metrics import accuracy_score\n",
        "from sklearn.metrics import ConfusionMatrixDisplay\n",
        "from scipy.sparse import coo_array\n",
        "\n",
        "import torch\n",
        "import torch.nn as nn\n",
        "import torch.nn.functional as F\n",
        "import torch.optim as optim\n",
        "from torch.utils.data import Dataset, DataLoader\n",
        "\n",
        "# from keras.preprocessing import sequence\n",
        "# import tensorflow as tf\n",
        "# from keras.models import Sequential\n",
        "# from keras.layers import BatchNormalization\n",
        "# from keras.layers import Dense\n",
        "# from keras.layers import LSTM\n",
        "# from keras.layers import Dropout\n",
        "# from keras import regularizers\n",
        "# from keras.optimizers import Adam\n",
        "# from keras.models import load_model\n",
        "# from keras.callbacks import ModelCheckpoint\n",
        "# from scipy.sparse import coo_array\n"
      ]
    },
    {
      "cell_type": "code",
      "source": [
        "from google.colab import drive\n",
        "drive.mount('/content/drive')\n",
        "path = '/content/drive/MyDrive/cora_embeddings'"
      ],
      "metadata": {
        "colab": {
          "base_uri": "https://localhost:8080/"
        },
        "id": "hbiJKFMNTetq",
        "outputId": "b4ba6c3e-bbbc-4892-b292-e1fde9e4c2f0"
      },
      "execution_count": null,
      "outputs": [
        {
          "output_type": "stream",
          "name": "stdout",
          "text": [
            "Mounted at /content/drive\n"
          ]
        }
      ]
    },
    {
      "cell_type": "code",
      "source": [
        "use_cuda = torch.cuda.is_available()\n",
        "device = torch.device(\"cuda:0\" if use_cuda else \"cpu\")\n",
        "print(\"Device: \",device)\n",
        "\n",
        "if use_cuda:\n",
        "    print('__CUDNN VERSION:', torch.backends.cudnn.version())\n",
        "    print('__Number CUDA Devices:', torch.cuda.device_count())\n",
        "    print('__CUDA Device Name:',torch.cuda.get_device_name(0))\n",
        "    print('__CUDA Device Total Memory [GB]:',torch.cuda.get_device_properties(0).total_memory/1e9)"
      ],
      "metadata": {
        "colab": {
          "base_uri": "https://localhost:8080/"
        },
        "id": "fLgnbIdJMIo_",
        "outputId": "b03b91f1-de21-4a60-97f2-26c1f1fb10d2"
      },
      "execution_count": null,
      "outputs": [
        {
          "output_type": "stream",
          "name": "stdout",
          "text": [
            "Device:  cuda:0\n",
            "__CUDNN VERSION: 8906\n",
            "__Number CUDA Devices: 1\n",
            "__CUDA Device Name: Tesla T4\n",
            "__CUDA Device Total Memory [GB]: 15.835660288\n"
          ]
        }
      ]
    },
    {
      "cell_type": "markdown",
      "metadata": {
        "id": "ZNdzEUzuvZwb"
      },
      "source": [
        "# Graph building, preprocessing"
      ]
    },
    {
      "cell_type": "code",
      "execution_count": null,
      "metadata": {
        "id": "RFYjBSkQrVSg"
      },
      "outputs": [],
      "source": [
        "edgelist = pd.read_csv(f\"{path}/cora.cites\", sep='\\t', header=None, names=[\"target\", \"source\"])\n",
        "edgelist[\"label\"] = \"cites\"\n",
        "Gnx = nx.from_pandas_edgelist(edgelist, edge_attr=\"label\")\n",
        "nx.set_node_attributes(Gnx, \"paper\", \"label\")\n",
        "feature_names = [\"w_{}\".format(ii) for ii in range(1433)]\n",
        "column_names =  feature_names + [\"subject\"]\n",
        "node_data = pd.read_csv(f\"{path}/cora.content\", sep='\\t', header=None, names=column_names)\n",
        "\n",
        "attributes = node_data.sort_index(axis=0)\n",
        "mapping = {}\n",
        "list_of_index = list(attributes.index)\n",
        "for i in range(len(list_of_index)):\n",
        "    mapping[list_of_index[i]] = i\n",
        "G = nx.relabel_nodes(Gnx, mapping)\n",
        "\n",
        "attributes['subject'] = attributes['subject'].astype('category')\n",
        "labels = attributes['subject'].cat.codes\n",
        "\n",
        "model = karateclub.AE()\n",
        "# model.fit(G, coo_array(np.array(attributes)))\n",
        "# embeddings = model.get_embedding()\n"
      ]
    },
    {
      "cell_type": "markdown",
      "metadata": {
        "id": "SPPWJU2MvWBt"
      },
      "source": [
        "# Classification"
      ]
    },
    {
      "cell_type": "code",
      "execution_count": null,
      "metadata": {
        "id": "mi9TnwaR_Ff4"
      },
      "outputs": [],
      "source": [
        "def generate_class_weights(class_series, multi_class=True, one_hot_encoded=False):\n",
        "  \"\"\"\n",
        "  Method to generate class weights given a set of multi-class or multi-label labels, both one-hot-encoded or not.\n",
        "  Some examples of different formats of class_series and their outputs are:\n",
        "    - generate_class_weights(['mango', 'lemon', 'banana', 'mango'], multi_class=True, one_hot_encoded=False)\n",
        "    {'banana': 1.3333333333333333, 'lemon': 1.3333333333333333, 'mango': 0.6666666666666666}\n",
        "    - generate_class_weights([[1, 0, 0], [0, 1, 0], [0, 0, 1], [1, 0, 0]], multi_class=True, one_hot_encoded=True)\n",
        "    {0: 0.6666666666666666, 1: 1.3333333333333333, 2: 1.3333333333333333}\n",
        "    - generate_class_weights([['mango', 'lemon'], ['mango'], ['lemon', 'banana'], ['lemon']], multi_class=False, one_hot_encoded=False)\n",
        "    {'banana': 1.3333333333333333, 'lemon': 0.4444444444444444, 'mango': 0.6666666666666666}\n",
        "    - generate_class_weights([[0, 1, 1], [0, 0, 1], [1, 1, 0], [0, 1, 0]], multi_class=False, one_hot_encoded=True)\n",
        "    {0: 1.3333333333333333, 1: 0.4444444444444444, 2: 0.6666666666666666}\n",
        "  The output is a dictionary in the format { class_label: class_weight }. In case the input is one hot encoded, the class_label would be index\n",
        "  of appareance of the label when the dataset was processed.\n",
        "  In multi_class this is np.unique(class_series) and in multi-label np.unique(np.concatenate(class_series)).\n",
        "  Author: Angel Igareta (angel@igareta.com)\n",
        "  \"\"\"\n",
        "  if multi_class:\n",
        "    # If class is one hot encoded, transform to categorical labels to use compute_class_weight\n",
        "    if one_hot_encoded:\n",
        "      class_series = np.argmax(class_series, axis=1)\n",
        "\n",
        "    # Compute class weights with sklearn method\n",
        "    class_labels = np.unique(class_series)\n",
        "    class_weights = compute_class_weight(class_weight='balanced', classes=class_labels, y=class_series)\n",
        "    return dict(zip(class_labels, class_weights))\n",
        "  else:\n",
        "    # It is neccessary that the multi-label values are one-hot encoded\n",
        "    mlb = None\n",
        "    if not one_hot_encoded:\n",
        "      mlb = MultiLabelBinarizer() #sklearn\n",
        "      class_series = mlb.fit_transform(class_series)\n",
        "\n",
        "    n_samples = len(class_series)\n",
        "    n_classes = len(class_series[0])\n",
        "\n",
        "    # Count each class frequency\n",
        "    class_count = [0] * n_classes\n",
        "    for classes in class_series:\n",
        "        for index in range(n_classes):\n",
        "            if classes[index] != 0:\n",
        "                class_count[index] += 1\n",
        "\n",
        "    # Compute class weights using balanced method\n",
        "    class_weights = [n_samples / (n_classes * freq) if freq > 0 else 1 for freq in class_count]\n",
        "    class_labels = range(len(class_weights)) if mlb is None else mlb.classes_\n",
        "    return dict(zip(class_labels, class_weights))"
      ]
    },
    {
      "cell_type": "code",
      "execution_count": null,
      "metadata": {
        "id": "egn7ld7f_kP1"
      },
      "outputs": [],
      "source": [
        "import torch\n",
        "import torch.nn as nn\n",
        "import torch.nn.functional as F\n",
        "import torch.optim as optim\n",
        "from torch.utils.data import Dataset, DataLoader\n",
        "\n",
        "# https://pytorch.org/tutorials/beginner/introyt/trainingyt.html\n",
        "\n",
        "class Model(nn.Module):\n",
        "    def __init__(self, input_dim, nclasses):\n",
        "        super(Model, self).__init__()\n",
        "        self.fc1 = nn.Linear(input_dim, 256)\n",
        "        self.fc2 = nn.Linear(256, 16)\n",
        "        self.fc3 = nn.Linear(16, nclasses)\n",
        "\n",
        "        if nclasses == 2:\n",
        "            self.last_activation = nn.Sigmoid()\n",
        "        else:\n",
        "            self.last_activation = nn.Softmax(dim=1)\n",
        "\n",
        "    def forward(self, x):\n",
        "        # x = x.float()\n",
        "        x = F.relu(self.fc1(x))\n",
        "        x = F.relu(self.fc2(x))\n",
        "        x = self.fc3(x)\n",
        "        # x = self.last_activation(self.fc3(x))\n",
        "        return x\n",
        "\n",
        "def train_one_epoch(train_examples,\n",
        "                    train_labels,\n",
        "                    model,\n",
        "                    optimizer,\n",
        "                    loss_fn,\n",
        "                    batch_size=32,\n",
        "                    device='cpu'):\n",
        "\n",
        "      #for computing loss/acc on our train dataset\n",
        "      total_loss = 0\n",
        "      total_correct = 0\n",
        "\n",
        "      shuffled_indices = torch.randperm(len(train_examples))\n",
        "      train_examples = train_examples[shuffled_indices]\n",
        "      train_labels = train_labels[shuffled_indices]\n",
        "\n",
        "      for i in range(0, len(train_examples), batch_size):\n",
        "        #build your batch of data\n",
        "        inputs = train_examples[i:i+batch_size]\n",
        "        labels = train_labels[i:i+batch_size]\n",
        "\n",
        "        #convert to tensors\n",
        "        inputs = torch.tensor(inputs).float()\n",
        "        labels = torch.tensor(labels)\n",
        "        labels = labels.type(torch.LongTensor)\n",
        "\n",
        "        inputs = inputs.to(device)\n",
        "        labels = labels.to(device)\n",
        "\n",
        "        # #zero your gradients for current batch\n",
        "        optimizer.zero_grad()\n",
        "\n",
        "        #make predictions on batch\n",
        "        outputs = model(inputs)\n",
        "\n",
        "        #compute loss and its gradients\n",
        "        loss = loss_fn(outputs, labels)\n",
        "        loss.backward()\n",
        "\n",
        "        #adjust learning weights\n",
        "        optimizer.step()\n",
        "\n",
        "        #calculate loss and acc\n",
        "        batch_loss = loss.item()\n",
        "        # total_loss += batch_loss #\n",
        "        total_loss += batch_loss * batch_size\n",
        "        total_correct += (outputs.argmax(dim=1) == labels).sum().item()\n",
        "\n",
        "        # print(f\"Batch Loss: {batch_loss}\")\n",
        "\n",
        "      # total_batches = len(train_examples) // batch_size\n",
        "      # train_loss = total_loss / total_batches\n",
        "      train_loss = total_loss / len(train_examples)\n",
        "      train_acc = total_correct / len(train_examples)\n",
        "\n",
        "      return train_loss, train_acc\n",
        "\n",
        "\n",
        "def run_classification(dataset, labels, timeseries, r, shape, train_size, seq_len, dim, nclasses, device, verbose=True, display_cm=False):\n",
        "\n",
        "  # split dataset intro train and val\n",
        "  train_data = dataset\n",
        "  train_examples, test_examples, train_labels, test_labels = train_test_split(train_data,\n",
        "                                                                              labels,\n",
        "                                                                              random_state=r,\n",
        "                                                                              train_size = train_size,\n",
        "                                                                              stratify=labels)\n",
        "\n",
        "  # convert labels to tensor\n",
        "  train_labels = torch.tensor(train_labels)\n",
        "  test_labels = torch.tensor(test_labels)\n",
        "\n",
        "  #balance out classes in dataset\n",
        "  class_weights = torch.tensor(list(generate_class_weights(labels).values()))\n",
        "  class_weights = class_weights.float()\n",
        "  class_weights = class_weights.to(device)\n",
        "  n_classes = len(class_weights)\n",
        "\n",
        "  #pytorch model\n",
        "  batch_size = 16\n",
        "  model = Model(dim, nclasses)\n",
        "  model = model.float()\n",
        "  model = model.to(device)\n",
        "\n",
        "  optimizer = torch.optim.Adam(model.parameters(), lr=0.001)\n",
        "  # loss_fn = torch.nn.CrossEntropyLoss()\n",
        "  loss_fn = torch.nn.CrossEntropyLoss(weight=class_weights)\n",
        "\n",
        "  #train/fit model\n",
        "  EPOCHS = 30\n",
        "  epoch_number = 0\n",
        "  for epoch in range(30):\n",
        "    # do a pass over training data, ensuring gradient tracking is on\n",
        "    model.train(True)\n",
        "    avg_loss, avg_accuracy = train_one_epoch(train_examples,\n",
        "                                              train_labels,\n",
        "                                              model,\n",
        "                                              optimizer,\n",
        "                                              loss_fn,\n",
        "                                              batch_size=batch_size,\n",
        "                                              device=device)\n",
        "    if verbose:\n",
        "      print(f\"EPOCH {epoch_number + 1}:\")\n",
        "      print(f\"Average Loss: {avg_loss}\")\n",
        "      print(f\"Average Accuracy: {avg_accuracy}\")\n",
        "\n",
        "    epoch_number += 1\n",
        "\n",
        "  # get predictions (multiclass) on test set\n",
        "  model.eval()\n",
        "  final_test_preds = []\n",
        "  with torch.no_grad():\n",
        "    test_preds = model(torch.tensor(test_examples).float().to(device))\n",
        "    for i in range(len(test_preds)):\n",
        "      final_test_preds.append(test_preds[i].argmax().item())\n",
        "\n",
        "  if display_cm:\n",
        "    ConfusionMatrixDisplay.from_predictions(test_labels, final_test_preds)\n",
        "  return accuracy_score(test_labels, np.array(final_test_preds)), model\n"
      ]
    },
    {
      "cell_type": "code",
      "execution_count": null,
      "metadata": {
        "colab": {
          "base_uri": "https://localhost:8080/"
        },
        "id": "9McwI9SY_axL",
        "outputId": "44c7f683-86e2-4037-f734-65727cdcfea2"
      },
      "outputs": [
        {
          "output_type": "stream",
          "name": "stdout",
          "text": [
            "(2708, 64)\n",
            "(2708,)\n"
          ]
        }
      ],
      "source": [
        "# Load cora dataset in\n",
        "#cora.tsv is the file containing node embeddings using karateclub.AE(). I is a 2708x64 array\n",
        "path = '/content/drive/MyDrive/cora_embeddings'\n",
        "dataset = np.genfromtxt(fname=f\"{path}/cora.tsv\", delimiter=\"\\t\")\n",
        "labels = np.genfromtxt(fname=f\"{path}/cora_labels.tsv\")\n",
        "\n",
        "print(dataset.shape)\n",
        "print(labels.shape)"
      ]
    },
    {
      "cell_type": "code",
      "execution_count": null,
      "metadata": {
        "colab": {
          "base_uri": "https://localhost:8080/",
          "height": 1000
        },
        "id": "KxcoZf06BN1R",
        "outputId": "53cd1684-513b-4601-9336-5f537c7bf274"
      },
      "outputs": [
        {
          "output_type": "stream",
          "name": "stderr",
          "text": [
            "<ipython-input-7-6f590b515157>:52: UserWarning: To copy construct from a tensor, it is recommended to use sourceTensor.clone().detach() or sourceTensor.clone().detach().requires_grad_(True), rather than torch.tensor(sourceTensor).\n",
            "  labels = torch.tensor(labels)\n"
          ]
        },
        {
          "output_type": "stream",
          "name": "stdout",
          "text": [
            "EPOCH 1:\n",
            "Average Loss: 1.748544545035249\n",
            "Average Accuracy: 0.5113456464379947\n",
            "EPOCH 2:\n",
            "Average Loss: 1.0603086134374613\n",
            "Average Accuracy: 0.7435356200527704\n",
            "EPOCH 3:\n",
            "Average Loss: 0.6242170162754512\n",
            "Average Accuracy: 0.807915567282322\n",
            "EPOCH 4:\n",
            "Average Loss: 0.5255994801785512\n",
            "Average Accuracy: 0.8211081794195251\n",
            "EPOCH 5:\n",
            "Average Loss: 0.47480666681455747\n",
            "Average Accuracy: 0.8369393139841689\n",
            "EPOCH 6:\n",
            "Average Loss: 0.4650111580901536\n",
            "Average Accuracy: 0.8443271767810027\n",
            "EPOCH 7:\n",
            "Average Loss: 0.4439459921502186\n",
            "Average Accuracy: 0.8517150395778365\n",
            "EPOCH 8:\n",
            "Average Loss: 0.4136697796844241\n",
            "Average Accuracy: 0.8617414248021108\n",
            "EPOCH 9:\n",
            "Average Loss: 0.39211259328595566\n",
            "Average Accuracy: 0.8686015831134565\n",
            "EPOCH 10:\n",
            "Average Loss: 0.3848328490999569\n",
            "Average Accuracy: 0.8701846965699208\n",
            "EPOCH 11:\n",
            "Average Loss: 0.3645946376870993\n",
            "Average Accuracy: 0.8712401055408971\n",
            "EPOCH 12:\n",
            "Average Loss: 0.35203710294336\n",
            "Average Accuracy: 0.8854881266490765\n",
            "EPOCH 13:\n",
            "Average Loss: 0.346785186022756\n",
            "Average Accuracy: 0.8786279683377308\n",
            "EPOCH 14:\n",
            "Average Loss: 0.3413210441065967\n",
            "Average Accuracy: 0.8807387862796834\n",
            "EPOCH 15:\n",
            "Average Loss: 0.3289473625474995\n",
            "Average Accuracy: 0.8828496042216358\n",
            "EPOCH 16:\n",
            "Average Loss: 0.31537197762240204\n",
            "Average Accuracy: 0.8981530343007915\n",
            "EPOCH 17:\n",
            "Average Loss: 0.3073135888041796\n",
            "Average Accuracy: 0.8939313984168865\n",
            "EPOCH 18:\n",
            "Average Loss: 0.29647741443563574\n",
            "Average Accuracy: 0.8970976253298153\n",
            "EPOCH 19:\n",
            "Average Loss: 0.2993770486132136\n",
            "Average Accuracy: 0.9002638522427441\n",
            "EPOCH 20:\n",
            "Average Loss: 0.2853824548796802\n",
            "Average Accuracy: 0.8965699208443272\n",
            "EPOCH 21:\n",
            "Average Loss: 0.2736003723496812\n",
            "Average Accuracy: 0.9044854881266491\n",
            "EPOCH 22:\n",
            "Average Loss: 0.26340755409804373\n",
            "Average Accuracy: 0.9102902374670184\n",
            "EPOCH 23:\n",
            "Average Loss: 0.2599341221409297\n",
            "Average Accuracy: 0.9129287598944591\n",
            "EPOCH 24:\n",
            "Average Loss: 0.24708174388452697\n",
            "Average Accuracy: 0.912401055408971\n",
            "EPOCH 25:\n",
            "Average Loss: 0.2424970073247019\n",
            "Average Accuracy: 0.9102902374670184\n",
            "EPOCH 26:\n",
            "Average Loss: 0.24069067142255074\n",
            "Average Accuracy: 0.9187335092348285\n",
            "EPOCH 27:\n",
            "Average Loss: 0.23864176757731978\n",
            "Average Accuracy: 0.9155672823218998\n",
            "EPOCH 28:\n",
            "Average Loss: 0.22193005141608005\n",
            "Average Accuracy: 0.920844327176781\n",
            "EPOCH 29:\n",
            "Average Loss: 0.2155289112735235\n",
            "Average Accuracy: 0.9229551451187336\n",
            "EPOCH 30:\n",
            "Average Loss: 0.21399572524672134\n",
            "Average Accuracy: 0.925065963060686\n"
          ]
        },
        {
          "output_type": "stream",
          "name": "stderr",
          "text": [
            "<ipython-input-7-6f590b515157>:52: UserWarning: To copy construct from a tensor, it is recommended to use sourceTensor.clone().detach() or sourceTensor.clone().detach().requires_grad_(True), rather than torch.tensor(sourceTensor).\n",
            "  labels = torch.tensor(labels)\n"
          ]
        },
        {
          "output_type": "stream",
          "name": "stdout",
          "text": [
            "EPOCH 1:\n",
            "Average Loss: 1.7302994861451806\n",
            "Average Accuracy: 0.46226912928759895\n",
            "EPOCH 2:\n",
            "Average Loss: 0.9637227488696418\n",
            "Average Accuracy: 0.7662269129287599\n",
            "EPOCH 3:\n",
            "Average Loss: 0.5733805044974375\n",
            "Average Accuracy: 0.8200527704485489\n",
            "EPOCH 4:\n",
            "Average Loss: 0.47282011521523104\n",
            "Average Accuracy: 0.8411609498680739\n",
            "EPOCH 5:\n",
            "Average Loss: 0.44655770248976734\n",
            "Average Accuracy: 0.8490765171503958\n",
            "EPOCH 6:\n",
            "Average Loss: 0.41605357834405826\n",
            "Average Accuracy: 0.8596306068601584\n",
            "EPOCH 7:\n",
            "Average Loss: 0.3925987609772695\n",
            "Average Accuracy: 0.8691292875989446\n",
            "EPOCH 8:\n",
            "Average Loss: 0.38293919601037824\n",
            "Average Accuracy: 0.8712401055408971\n",
            "EPOCH 9:\n",
            "Average Loss: 0.3830162433332378\n",
            "Average Accuracy: 0.8717678100263853\n",
            "EPOCH 10:\n",
            "Average Loss: 0.35925349585299127\n",
            "Average Accuracy: 0.8765171503957784\n",
            "EPOCH 11:\n",
            "Average Loss: 0.35169217454412055\n",
            "Average Accuracy: 0.8807387862796834\n",
            "EPOCH 12:\n",
            "Average Loss: 0.3316078568511399\n",
            "Average Accuracy: 0.887071240105541\n",
            "EPOCH 13:\n",
            "Average Loss: 0.3275669631354098\n",
            "Average Accuracy: 0.8902374670184696\n",
            "EPOCH 14:\n",
            "Average Loss: 0.3070485939136596\n",
            "Average Accuracy: 0.8886543535620053\n",
            "EPOCH 15:\n",
            "Average Loss: 0.30729882585027285\n",
            "Average Accuracy: 0.8928759894459103\n",
            "EPOCH 16:\n",
            "Average Loss: 0.2930130320677342\n",
            "Average Accuracy: 0.8986807387862796\n",
            "EPOCH 17:\n",
            "Average Loss: 0.2884237542315964\n",
            "Average Accuracy: 0.8965699208443272\n",
            "EPOCH 18:\n",
            "Average Loss: 0.2718724970452704\n",
            "Average Accuracy: 0.8976253298153034\n",
            "EPOCH 19:\n",
            "Average Loss: 0.2703131268081061\n",
            "Average Accuracy: 0.9002638522427441\n",
            "EPOCH 20:\n",
            "Average Loss: 0.2556097470990586\n",
            "Average Accuracy: 0.9118733509234829\n",
            "EPOCH 21:\n",
            "Average Loss: 0.2488733476258834\n",
            "Average Accuracy: 0.9087071240105541\n",
            "EPOCH 22:\n",
            "Average Loss: 0.23673654999141644\n",
            "Average Accuracy: 0.9113456464379948\n",
            "EPOCH 23:\n",
            "Average Loss: 0.2337720745157126\n",
            "Average Accuracy: 0.9102902374670184\n",
            "EPOCH 24:\n",
            "Average Loss: 0.22776330806963677\n",
            "Average Accuracy: 0.9113456464379948\n",
            "EPOCH 25:\n",
            "Average Loss: 0.22567004006267538\n",
            "Average Accuracy: 0.9097625329815303\n",
            "EPOCH 26:\n",
            "Average Loss: 0.2096608762690763\n",
            "Average Accuracy: 0.920844327176781\n",
            "EPOCH 27:\n",
            "Average Loss: 0.21062754625380825\n",
            "Average Accuracy: 0.9171503957783641\n",
            "EPOCH 28:\n",
            "Average Loss: 0.1992165200628517\n",
            "Average Accuracy: 0.9245382585751979\n",
            "EPOCH 29:\n",
            "Average Loss: 0.19422694076648803\n",
            "Average Accuracy: 0.9282321899736148\n",
            "EPOCH 30:\n",
            "Average Loss: 0.18759457442250918\n",
            "Average Accuracy: 0.9229551451187336\n"
          ]
        },
        {
          "output_type": "display_data",
          "data": {
            "text/plain": [
              "<Figure size 640x480 with 2 Axes>"
            ],
            "image/png": "[encoded data removed]"
          },
          "metadata": {}
        },
        {
          "output_type": "display_data",
          "data": {
            "text/plain": [
              "<Figure size 640x480 with 2 Axes>"
            ],
            "image/png": "[encoded data removed]"
          },
          "metadata": {}
        }
      ],
      "source": [
        "#run classification\n",
        "acc = []\n",
        "for i  in range(2):\n",
        "  a, model = run_classification(dataset,\n",
        "                                labels,\n",
        "                                timeseries=False,\n",
        "                                r = i+10,\n",
        "                                shape = (2708, 64),\n",
        "                                train_size = 0.7,\n",
        "                                seq_len=10,\n",
        "                                dim = 64,\n",
        "                                nclasses = 7,\n",
        "                                device=device,\n",
        "                                display_cm=True)\n",
        "  acc.append(a)\n",
        "\n",
        "# train loss in tensorflow: 0.3039\n",
        "# train acc in tensorflow: 0.8871\n",
        "\n",
        "# train loss in pytorch: 1.2875\n",
        "# train acc in pytorch: 0.9065"
      ]
    },
    {
      "cell_type": "code",
      "execution_count": null,
      "metadata": {
        "colab": {
          "base_uri": "https://localhost:8080/"
        },
        "id": "KBS8e0VP7wAT",
        "outputId": "e526ba1e-d19a-42b0-c1e7-8c171bd462e9"
      },
      "outputs": [
        {
          "output_type": "stream",
          "name": "stdout",
          "text": [
            "0.852029520295203 0.014291980765235376\n"
          ]
        }
      ],
      "source": [
        "print(np.mean(acc), np.std(acc))\n",
        "\n",
        "# tensorflow values:\n",
        "# 0.8373923739237392 0.009806214724720668\n",
        "\n",
        "# pytorch values:\n",
        "# 0.8348093480934808 0.010695450287000415"
      ]
    },
    {
      "cell_type": "markdown",
      "source": [
        "# Network Simulation"
      ],
      "metadata": {
        "id": "SZJfxP7ilDXg"
      }
    },
    {
      "cell_type": "code",
      "source": [
        "import networkx as nx\n",
        "import random\n",
        "import matplotlib.pyplot as plt\n",
        "from scipy.spatial import distance_matrix\n",
        "import numpy as np\n",
        "import math\n",
        "from scipy.sparse import coo_array\n",
        "from sklearn.neighbors import NearestNeighbors\n",
        "\n",
        "#returns a graph, its node attributes (of size <nodes> x 2), node labels (list of size <nodes>), and positions of nodes for drawing purposes\n",
        "#To get embedding of this graph, call embedding_model.fit(g, a)\n",
        "\n",
        "def make_network(nodes, k, draw=False):\n",
        "  random_points = np.random.rand(nodes, 2) * 10\n",
        "  if draw:\n",
        "    plt.figure(figsize=(10,5))\n",
        "    plt.scatter(random_points[:, 0], random_points[:, 1])\n",
        "\n",
        "  # initialize graph\n",
        "  g = nx.Graph()\n",
        "  pos = {}\n",
        "\n",
        "\n",
        "  # Find nearest neighbor for each point\n",
        "  distances, indices = NearestNeighbors(n_neighbors=k+1, algorithm='ball_tree').fit(random_points).kneighbors(random_points)\n",
        "  for i in range(len(random_points)):\n",
        "    g.add_node(i) #add node i to our graph\n",
        "    pos[i] = (random_points[i, 0], random_points[i, 1])\n",
        "    for j in range(len(indices[i])-1):\n",
        "        g.add_edge(i, indices[i][j+1])\n",
        "\n",
        "  labels = np.zeros(nodes)\n",
        "  # seq = list(range(nodes))\n",
        "  select_1s = []\n",
        "  select_2s = []\n",
        "  for c in nx.connected_components(g):\n",
        "      seq = list(c)\n",
        "      s1 = random.sample(seq, math.ceil(len(c)/15))\n",
        "      labels[s1] = 1\n",
        "      select_1s += s1\n",
        "      seq = [i for i in list(c) if i not in s1]\n",
        "      s2 = random.sample(seq, math.ceil(len(c)/15))\n",
        "      labels[s2] = 2\n",
        "      select_2s += s2\n",
        "  # print(labels)\n",
        "\n",
        "  plt.figure(figsize=(10,5))\n",
        "  color = ['blue']*nodes\n",
        "  lst = list(labels)\n",
        "  for i in range(len(lst)):\n",
        "    if lst[i] == 1:\n",
        "      color[i] = 'pink'\n",
        "    elif lst[i] == 2:\n",
        "      color[i] = 'yellow'\n",
        "  if draw:\n",
        "    nx.draw_networkx(g, pos = pos, node_color = color, node_size = 150, font_size= 8)\n",
        "\n",
        "  # class_ = 1\n",
        "  ind1 = 0\n",
        "  ind2 = 0\n",
        "\n",
        "  while len(select_1s) + len(select_2s) < nodes:\n",
        "      # print(len(select_1s) + len(select_2s))\n",
        "\n",
        "      if random.random() >= 0.5: #add class 1\n",
        "          if random.random() > 0.6:\n",
        "              source = select_1s[ind1]\n",
        "          else:\n",
        "              source = random.choice(select_1s)\n",
        "          # class_ = 2\n",
        "          flag = 0\n",
        "          for n in g[source]:\n",
        "              if labels[n] == 0:\n",
        "                  flag = 1\n",
        "                  labels[n] = 1\n",
        "                  select_1s.append(n)\n",
        "          if flag == 1:\n",
        "              ind1 += 1\n",
        "\n",
        "      else: #add class 2\n",
        "\n",
        "          if random.random() > 0.6:\n",
        "              source = select_2s[ind2]\n",
        "          else:\n",
        "              source = random.choice(select_2s)\n",
        "          # class_ = 1\n",
        "          flag = 0\n",
        "          for n in g[source]:\n",
        "              if labels[n] == 0:\n",
        "                  labels[n] = 2\n",
        "                  select_2s.append(n)\n",
        "          if flag == 1:\n",
        "              ind2 += 1\n",
        "\n",
        "\n",
        "  # return g, coo_array(random_points), labels-1, pos\n",
        "  return g, random_points, labels-1, pos\n"
      ],
      "metadata": {
        "id": "TleIaHDklFpy"
      },
      "execution_count": null,
      "outputs": []
    },
    {
      "cell_type": "code",
      "source": [
        "g, a, l, p = make_network(nodes=50, k=4)"
      ],
      "metadata": {
        "colab": {
          "base_uri": "https://localhost:8080/",
          "height": 34
        },
        "id": "_yL81NRcn7E-",
        "outputId": "8065364e-0444-468c-93b5-33a10e0c76cb"
      },
      "execution_count": null,
      "outputs": [
        {
          "output_type": "display_data",
          "data": {
            "text/plain": [
              "<Figure size 1000x500 with 0 Axes>"
            ]
          },
          "metadata": {}
        }
      ]
    },
    {
      "cell_type": "code",
      "source": [
        "l+1"
      ],
      "metadata": {
        "colab": {
          "base_uri": "https://localhost:8080/"
        },
        "id": "7Hv8pArFuuwR",
        "outputId": "02541b5d-cbf7-444b-cf5e-f0a2302f973b"
      },
      "execution_count": null,
      "outputs": [
        {
          "output_type": "execute_result",
          "data": {
            "text/plain": [
              "array([2., 2., 1., 2., 2., 2., 2., 1., 1., 2., 2., 1., 2., 1., 2., 2., 2.,\n",
              "       1., 1., 2., 1., 2., 2., 2., 2., 1., 1., 2., 1., 1., 2., 2., 1., 2.,\n",
              "       2., 2., 2., 1., 2., 1., 1., 1., 1., 1., 2., 2., 1., 2., 2., 1.])"
            ]
          },
          "metadata": {},
          "execution_count": 66
        }
      ]
    },
    {
      "cell_type": "code",
      "source": [
        "g #our graph of 50 nodes\n",
        "a #node attributes - shape: 50x2\n",
        "l #node labels - binary (0 or 1)\n",
        "p #node positions\n",
        "\n",
        "a"
      ],
      "metadata": {
        "colab": {
          "base_uri": "https://localhost:8080/"
        },
        "id": "Qdu1mRKpn-k3",
        "outputId": "a9106cb6-de96-46dc-b786-6a78d04255c2"
      },
      "execution_count": null,
      "outputs": [
        {
          "output_type": "execute_result",
          "data": {
            "text/plain": [
              "<50x2 sparse array of type '<class 'numpy.float64'>'\n",
              "\twith 100 stored elements in COOrdinate format>"
            ]
          },
          "metadata": {},
          "execution_count": 20
        }
      ]
    },
    {
      "cell_type": "code",
      "source": [
        "import matplotlib.pyplot as plt\n",
        "import networkx as nx\n",
        "\n",
        "plt.figure(figsize=(5,5))\n",
        "color = ['pink' if i == 1 else 'yellow' for i in l]\n",
        "nx.draw_networkx(g, pos = p, node_color = color, node_size = 150, font_size= 8)"
      ],
      "metadata": {
        "colab": {
          "base_uri": "https://localhost:8080/",
          "height": 422
        },
        "id": "xQ48BC9NlPL3",
        "outputId": "637ddcce-a197-4c3d-85f3-644f2f26ad04"
      },
      "execution_count": null,
      "outputs": [
        {
          "output_type": "display_data",
          "data": {
            "text/plain": [
              "<Figure size 500x500 with 1 Axes>"
            ],
            "image/png": "[encoded data removed]"
          },
          "metadata": {}
        }
      ]
    },
    {
      "cell_type": "markdown",
      "metadata": {
        "id": "we4tKk5RpRpY"
      },
      "source": [
        "# Environment building"
      ]
    },
    {
      "cell_type": "code",
      "execution_count": null,
      "metadata": {
        "id": "EpY2OxqJT3y2"
      },
      "outputs": [],
      "source": [
        "import numpy as np\n",
        "import networkx as nx\n",
        "import gym\n",
        "from gym import spaces\n",
        "import copy\n",
        "\n",
        "class OldGraphEnvironment(gym.Env):\n",
        "    def __init__(self, num_nodes, num_features, embedding_model, G, attributes, labels):\n",
        "        self.num_nodes = num_nodes\n",
        "        self.num_features = num_features\n",
        "\n",
        "        # Define action and observation spaces\n",
        "        self.action_space = spaces.MultiDiscrete([num_nodes, num_nodes])\n",
        "        self.observation_space = spaces.Box(low=0, high=1, shape=(num_nodes, num_features), dtype=np.float32)\n",
        "        self.iter = 0\n",
        "\n",
        "        # Initialize state (empty graph)\n",
        "        self.G = G\n",
        "        g = nx.Graph()\n",
        "        g.add_nodes_from(self.G) #what is big G? our cora dataset/empty graph? --> need to pass in to GraphEnv class\n",
        "        self.graph = g\n",
        "        self.attributes = attributes\n",
        "\n",
        "        # get embedding of empty graph\n",
        "        embedding_model.fit(copy.deepcopy(self.graph), coo_array(np.array(self.attributes))) #what is coo array?\n",
        "        self.state = embedding_model.get_embedding()#get embedding of empty graph\n",
        "\n",
        "        self.dataset = embedding_model.get_embedding() #50,64\n",
        "        self.labels = np.array(labels) #50,1\n",
        "\n",
        "\n",
        "    def step(self, action):\n",
        "        node1, node2 = action\n",
        "        self.iter += 1\n",
        "\n",
        "        #have to implement action masking instead. Goes in DQN module\n",
        "        if self.graph.has_edge(node1, node2):\n",
        "          #do nothing\n",
        "          reward = 0\n",
        "\n",
        "        else:\n",
        "          # Add edge to graph\n",
        "          self.graph.add_edge(node1, node2)\n",
        "\n",
        "\n",
        "          embedding_model.fit(copy.deepcopy(self.graph), coo_array(np.array(self.attributes)))\n",
        "          self.state = embedding_model.get_embedding()#get embedding of empty graph\n",
        "\n",
        "\n",
        "          # Calculate reward\n",
        "          print('state shape:', self.state.shape)\n",
        "          reward = self.calculate_reward(self.state) #get classification acc\n",
        "\n",
        "        # Check termination condition\n",
        "        done = False\n",
        "        if self.graph.has_edge(1696, 2392) or self.iter >= 10:\n",
        "            done = True\n",
        "\n",
        "        return self.state, reward, done, {}\n",
        "\n",
        "    def reset(self):\n",
        "        # Reset state and graph (to initial empty graph-->graph with no edges)\n",
        "        g = nx.Graph()\n",
        "        g.add_nodes_from(self.G)\n",
        "        self.graph = g\n",
        "\n",
        "        embedding_model.fit(copy.deepcopy(self.graph), coo_array(np.array(self.attributes)))\n",
        "        self.state = embedding_model.get_embedding()#get embedding of empty graph\n",
        "\n",
        "        return self.state\n",
        "\n",
        "    def calculate_reward(self, curr_state):\n",
        "       print('Calculating reward...')\n",
        "       print('Curr state shape:', curr_state.shape)\n",
        "       #instead of self.dataset, we should feed in the new state (graph) with the\n",
        "       #new edge added inorder to calculate the reward (classification accuracy)\n",
        "       #yielded by our new state as a result of our action\n",
        "       #self.labels can stay the same bc node classes will not change w/ the addition of edges\n",
        "\n",
        "       acc, model = run_classification(curr_state,\n",
        "                                self.labels,\n",
        "                                timeseries=False,\n",
        "                                r = i+10,\n",
        "                                shape = curr_state.shape,\n",
        "                                train_size = 0.7,\n",
        "                                seq_len=10,\n",
        "                                dim = 64,\n",
        "                                nclasses = len(np.unique(self.labels)),\n",
        "                                device=device,\n",
        "                                verbose=False)\n",
        "       return acc\n"
      ]
    },
    {
      "cell_type": "code",
      "source": [
        "#updated with namrata's changes\n",
        "import numpy as np\n",
        "import networkx as nx\n",
        "import gym\n",
        "from gym import spaces\n",
        "\n",
        "class GraphEnvironment(gym.Env):\n",
        "    def __init__(self, num_nodes, num_features, embedding_model, G, attributes, labels):\n",
        "        self.num_nodes = num_nodes\n",
        "        self.num_features = num_features\n",
        "        self.current_return = 0\n",
        "        self.reward = 0\n",
        "\n",
        "        # Define action and observation spaces\n",
        "        # self.action_space = spaces.MultiDiscrete([num_nodes, num_nodes])\n",
        "        self.action_space = spaces.Discrete(num_nodes**2)\n",
        "        self.observation_space = spaces.Box(low=0, high=1, shape=(num_nodes, num_features), dtype=np.float32)\n",
        "        self.iter = 0\n",
        "\n",
        "        # Initialize state (empty graph)\n",
        "        self.G = G\n",
        "        g = nx.Graph()\n",
        "        g.add_nodes_from(self.G) #what is big G? our cora dataset/empty graph? --> need to pass in to GraphEnv class\n",
        "        self.graph = g\n",
        "        self.attributes = attributes\n",
        "\n",
        "        # get embedding of empty graph\n",
        "        embedding_model.fit(copy.deepcopy(self.graph), coo_array(copy.deepcopy(np.array(self.attributes)))) #what is coo array?\n",
        "        self.state = embedding_model.get_embedding()#get embedding of empty graph\n",
        "        self.labels = np.array(labels) #50,1\n",
        "\n",
        "\n",
        "    def step(self, action):\n",
        "        node1, node2 = int(action[0][0] % self.num_nodes), int(action[0][0] / self.num_nodes)\n",
        "        self.iter += 1\n",
        "\n",
        "        #have to implement action masking instead. Goes in DQN module\n",
        "        if self.graph.has_edge(node1, node2):\n",
        "          #do nothing\n",
        "          reward = 0\n",
        "\n",
        "        else:\n",
        "          # Add edge to graph\n",
        "          self.graph.add_edge(node1, node2)\n",
        "\n",
        "\n",
        "          embedding_model.fit(copy.deepcopy(self.graph), coo_array(np.array(copy.deepcopy(self.attributes))))\n",
        "          self.state = embedding_model.get_embedding()#get embedding of empty graph\n",
        "\n",
        "\n",
        "          # Calculate reward\n",
        "          reward = self.calculate_reward() #get classification acc\n",
        "\n",
        "        # Check termination condition\n",
        "        done = False\n",
        "        if self.graph.has_edge(4, 23) or self.iter >= 100:\n",
        "            done = True\n",
        "\n",
        "        return self.state, reward, done, {}\n",
        "\n",
        "    def reset(self):\n",
        "        # Reset state and graph\n",
        "        g = nx.Graph()\n",
        "        g.add_nodes_from(self.G)\n",
        "        self.graph = g\n",
        "\n",
        "\n",
        "        embedding_model.fit(copy.deepcopy(self.graph),  coo_array(np.array(copy.deepcopy(self.attributes))))\n",
        "        self.state = embedding_model.get_embedding()#get embedding of empty graph\n",
        "\n",
        "\n",
        "        return self.state\n",
        "\n",
        "    def calculate_reward(self):\n",
        "\n",
        "       acc = []\n",
        "       for i in range(5):\n",
        "        a, model = run_classification(self.state,\n",
        "                          self.labels,\n",
        "                          timeseries = False,\n",
        "                          r = i+10,\n",
        "                          shape = (50, 64),\n",
        "                          train_size = 0.7,\n",
        "                          seq_len=10,\n",
        "                          dim = 64,\n",
        "                          nclasses = 2,\n",
        "                          device=device, verbose=False)\n",
        "        acc.append(a)\n",
        "\n",
        "       accuracy = np.mean(acc)\n",
        "       print(\"Accuracy = \", accuracy)\n",
        "       print(\"Previous Return= \", self.current_return)\n",
        "       self.current_return = accuracy-self.reward\n",
        "       self.reward = accuracy\n",
        "       print(\"Current Return= \", self.current_return)\n",
        "\n",
        "       return self.current_return\n",
        "\n",
        "\n",
        "# # Test drive\n",
        "# env = GraphEnvironment(num_nodes=50, num_features=64)\n",
        "# state = env.reset()\n",
        "# done = False\n",
        "# total_reward = 0\n",
        "\n",
        "# while not done:\n",
        "#     action = env.action_space.sample()  # Random action for demonstration\n",
        "#     next_state, reward, done, _ = env.step(action)\n",
        "#     total_reward += reward\n",
        "\n",
        "# print(\"Total reward:\", total_reward)\n",
        "# print(env.iter)"
      ],
      "metadata": {
        "id": "C12fZ0_lyEpU",
        "colab": {
          "base_uri": "https://localhost:8080/"
        },
        "outputId": "eb0418a1-7862-4830-ecdb-5aba0f5dbc3c"
      },
      "execution_count": null,
      "outputs": [
        {
          "output_type": "stream",
          "name": "stderr",
          "text": [
            "/usr/local/lib/python3.10/dist-packages/ipykernel/ipkernel.py:283: DeprecationWarning: `should_run_async` will not call `transform_cell` automatically in the future. Please pass the result to `transformed_cell` argument and any exception that happen during thetransform in `preprocessing_exc_tuple` in IPython 7.17 and above.\n",
            "  and should_run_async(code)\n"
          ]
        }
      ]
    },
    {
      "cell_type": "code",
      "source": [
        "np.random.seed(1234)\n",
        "\n",
        "#define num of nodes and num of features for G (reduce graph size so it runs faster)\n",
        "num_nodes = 50\n",
        "num_features = 2 #or 64??\n",
        "\n",
        "# simulate network data\n",
        "G_sim, attributes_sim, labels_sim, pos_sim = make_network(nodes=num_nodes, k=4)\n",
        "\n",
        "#build embedding model\n",
        "embedding_model = karateclub.AE()\n",
        "embedding_model.fit(G_sim, coo_array(np.array(attributes_sim)))\n",
        "dataset_sim = embedding_model.get_embedding() #50,64\n",
        "labels_sim = np.array(labels_sim) #50,1\n",
        "\n",
        "# Example usage of custom graph environment\n",
        "# env = GraphEnvironment(num_nodes=num_nodes,\n",
        "#                        num_features=num_features,\n",
        "#                        embedding_model=embedding_model,\n",
        "#                        G=G,\n",
        "#                        attributes=attributes)\n",
        "\n",
        "env = GraphEnvironment(num_nodes=num_nodes,\n",
        "                       num_features=num_features,\n",
        "                       embedding_model=embedding_model,\n",
        "                       G=G_sim,\n",
        "                       attributes=attributes_sim,\n",
        "                       labels=labels_sim)\n",
        "state = env.reset()\n",
        "done = False\n",
        "total_reward = 0\n",
        "\n",
        "i = 0\n",
        "# while not done:\n",
        "#     print(f\"Getting action {i}\")\n",
        "#     action = env.action_space.sample()  # Random action for demonstration\n",
        "#     next_state, reward, done, _ = env.step(action)\n",
        "#     print(f\"Reward: {reward}\")\n",
        "#     total_reward += reward\n",
        "#     i += 1\n",
        "\n",
        "# print(\"Total reward:\", total_reward) #Total reward: 6.723247232472325, took 10 iterations (actions)\n",
        "# print(env.iter)"
      ],
      "metadata": {
        "colab": {
          "base_uri": "https://localhost:8080/",
          "height": 89
        },
        "id": "92211TMB2OtT",
        "outputId": "07e71e8d-475a-42f5-cbf2-b7fc2abaaeaf"
      },
      "execution_count": null,
      "outputs": [
        {
          "output_type": "stream",
          "name": "stderr",
          "text": [
            "/usr/local/lib/python3.10/dist-packages/karateclub/node_embedding/attributed/ae.py:78: DeprecationWarning: Call to deprecated `docvecs` (The `docvecs` property has been renamed `dv`.).\n",
            "  [model.docvecs[str(n)] for n in range(self.graph.number_of_nodes())]\n"
          ]
        },
        {
          "output_type": "display_data",
          "data": {
            "text/plain": [
              "<Figure size 1000x500 with 0 Axes>"
            ]
          },
          "metadata": {}
        }
      ]
    },
    {
      "cell_type": "markdown",
      "source": [
        "### Stable baselines DQN (doesn't work :( )"
      ],
      "metadata": {
        "id": "DqXSGt5I6rd9"
      }
    },
    {
      "cell_type": "code",
      "source": [
        "import gym\n",
        "\n",
        "# from stable_baselines.common.vec_env import DummyVecEnv\n",
        "from stable_baselines.deepq.policies import MlpPolicy\n",
        "from stable_baselines import DQN\n",
        "\n",
        "env = gym.make('CartPole-v1')\n",
        "# env = GraphEnvironment(num_nodes=5, num_features=3)\n",
        "\n",
        "model = DQN(MlpPolicy, env, verbose=1)\n",
        "model.learn(total_timesteps=10)\n",
        "# model.save(f\"{path}/deepq_graph\")\n",
        "\n",
        "# del model # remove to demonstrate saving and loading\n",
        "\n",
        "# model = DQN.load(f\"{path}/deepq_graph\")\n",
        "\n",
        "obs = env.reset()\n",
        "while True:\n",
        "    action, _states = model.predict(obs)\n",
        "    obs, rewards, dones, info = env.step(action)\n",
        "    env.render()\n"
      ],
      "metadata": {
        "id": "fyA8GGzKeGT4"
      },
      "execution_count": null,
      "outputs": []
    },
    {
      "cell_type": "markdown",
      "source": [
        "### PyTorch DQN"
      ],
      "metadata": {
        "id": "PK6X5Zx61zqS"
      }
    },
    {
      "cell_type": "code",
      "source": [
        "import gym\n",
        "import math\n",
        "import random\n",
        "import matplotlib\n",
        "import matplotlib.pyplot as plt\n",
        "from collections import namedtuple, deque\n",
        "from itertools import count\n",
        "import numpy as np\n",
        "from gym.spaces import MultiDiscrete\n",
        "\n",
        "import torch\n",
        "import torch.nn as nn\n",
        "import torch.optim as optim\n",
        "import torch.nn.functional as F"
      ],
      "metadata": {
        "id": "Y3-xr6LVz7Ez"
      },
      "execution_count": null,
      "outputs": []
    },
    {
      "cell_type": "code",
      "source": [
        "embedding_model = karateclub.AE()\n",
        "\n",
        "# env = gym.make(\"CartPole-v1\")\n",
        "# env = GraphEnvironment(num_nodes=5, num_features=3)\n",
        "env = GraphEnvironment(num_nodes=num_nodes,\n",
        "                       num_features=num_features,\n",
        "                       embedding_model=embedding_model,\n",
        "                       G=G_sim,\n",
        "                       attributes=attributes_sim,\n",
        "                       labels=labels_sim)\n",
        "\n",
        "# set up matplotlib\n",
        "is_ipython = 'inline' in matplotlib.get_backend()\n",
        "if is_ipython:\n",
        "    from IPython import display\n",
        "\n",
        "plt.ion()\n",
        "\n",
        "# if GPU is to be used\n",
        "device = torch.device(\"cuda\" if torch.cuda.is_available() else \"cpu\")"
      ],
      "metadata": {
        "id": "DqaPKEHI2ILL"
      },
      "execution_count": null,
      "outputs": []
    },
    {
      "cell_type": "code",
      "source": [
        "# Transition tuple represents a single transition in our environment\n",
        "# It maps (state, action) pairs to their (next_state, reward) result\n",
        "# The state being the screen difference image as described later on\n",
        "Transition = namedtuple('Transition',\n",
        "                        ('state', 'action', 'next_state', 'reward'))\n",
        "\n",
        "# ReplayMemory class is a cyclic buffer of bounded size that holds the transitions observed RECENTLY\n",
        "# It implements a .sample() method for selecting a random batch of transitions for training. This\n",
        "# decorrelates transitions and helps to greatly stabilize & improve the DQN training procedure\n",
        "class ReplayMemory(object):\n",
        "\n",
        "    def __init__(self, capacity):\n",
        "        self.memory = deque([], maxlen=capacity)\n",
        "\n",
        "    def push(self, *args):\n",
        "        \"\"\"Save a transition\"\"\"\n",
        "        self.memory.append(Transition(*args))\n",
        "\n",
        "    def sample(self, batch_size):\n",
        "        return random.sample(self.memory, batch_size)\n",
        "\n",
        "    def __len__(self):\n",
        "        return len(self.memory)\n",
        "\n",
        "\n",
        "# DQN Model\n",
        "class DQN(nn.Module):\n",
        "\n",
        "    def __init__(self, n_observations, n_actions):\n",
        "        super(DQN, self).__init__()\n",
        "        # self.layer1 = nn.Linear(n_observations, 128)\n",
        "        # self.layer2 = nn.Linear(128, 128)\n",
        "\n",
        "        self.layer1 = nn.Linear(50*64, 128) #n_observations is supposed to be flattened version of 2D input. Try Conv2d later. Classification works without conv because each input is a row in that case, not a matrix\n",
        "        self.layer2 = nn.Linear(128, 128)\n",
        "        self.layer3 = nn.Linear(128, n_actions)\n",
        "\n",
        "    # Called with either one element to determine next action, or a batch\n",
        "    # during optimization. Returns tensor([[left0exp,right0exp]...]).\n",
        "    def forward(self, x):\n",
        "        x = F.relu(self.layer1(x))\n",
        "        x = F.relu(self.layer2(x))\n",
        "        return self.layer3(x)"
      ],
      "metadata": {
        "id": "PIa7rXkr3n3k"
      },
      "execution_count": null,
      "outputs": []
    },
    {
      "cell_type": "code",
      "source": [
        "env.reset() #returns the graph of node embeddings of shape (num_nodes, 64)"
      ],
      "metadata": {
        "colab": {
          "base_uri": "https://localhost:8080/"
        },
        "id": "oBcJPwyxK0j3",
        "outputId": "5a17f096-3ea1-426f-8e8e-145bec7a6cc3"
      },
      "execution_count": null,
      "outputs": [
        {
          "output_type": "execute_result",
          "data": {
            "text/plain": [
              "array([[ 0.02496081,  0.02925937,  0.02494304, ...,  0.07970247,\n",
              "        -0.7176541 , -0.7351445 ],\n",
              "       [ 0.0220677 ,  0.00523767, -0.01126242, ...,  0.1452846 ,\n",
              "        -0.6176656 , -0.6122172 ],\n",
              "       [ 0.00937379, -0.02390207, -0.01755167, ...,  0.10621306,\n",
              "        -0.7525901 , -0.53642327],\n",
              "       ...,\n",
              "       [ 0.01263396, -0.01773443, -0.00082828, ...,  0.58611476,\n",
              "        -0.05917264, -0.445608  ],\n",
              "       [ 0.02495251,  0.01973666,  0.02940916, ...,  0.10768364,\n",
              "        -0.5770547 , -0.6656566 ],\n",
              "       [-0.00164827,  0.01343475,  0.01684589, ...,  0.7793641 ,\n",
              "        -0.7641972 , -0.56971514]], dtype=float32)"
            ]
          },
          "metadata": {},
          "execution_count": 39
        }
      ]
    },
    {
      "cell_type": "code",
      "source": [
        "#Training\n",
        "# BATCH_SIZE is the number of transitions sampled from the replay buffer\n",
        "# GAMMA is the discount factor as mentioned in the previous section\n",
        "# EPS_START is the starting value of epsilon\n",
        "# EPS_END is the final value of epsilon - MR: when/how does EPS get updated?\n",
        "# EPS_DECAY controls the rate of exponential decay of epsilon, higher means a slower decay\n",
        "# TAU is the update rate of the target network\n",
        "# LR is the learning rate of the ``AdamW`` optimizer\n",
        "BATCH_SIZE = 128\n",
        "GAMMA = 0.99\n",
        "EPS_START = 0.5\n",
        "EPS_END = 0.05\n",
        "EPS_DECAY = 1000\n",
        "TAU = 0.005\n",
        "LR = 1e-4\n",
        "\n",
        "# Get number of actions from gym action space\n",
        "# n_actions = (num_nodes)**2 bc an 'action' = adding an edge b/w two nodes\n",
        "n_actions = env.num_nodes ** 2 #env.action_space[0].n #env.action_space[1].n\n",
        "\n",
        "# Get the number of state observations\n",
        "state = env.reset() #set the initial state\n",
        "n_observations = 50*64 #state.shape[0] * state.shape[1] #50 * 64 #WE CHANNGED SO IF IT BREAKS THIS IS WHY\n",
        "\n",
        "print('num_actions:', n_actions)\n",
        "print('num_observations:', n_observations)\n",
        "policy_net = DQN(n_observations, n_actions).to(device) #n_observations should be 64\n",
        "target_net = DQN(n_observations, n_actions).to(device)\n",
        "target_net.load_state_dict(policy_net.state_dict()) #loading model\n",
        "\n",
        "optimizer = optim.AdamW(policy_net.parameters(), lr=LR, amsgrad=True)\n",
        "memory = ReplayMemory(10000)\n",
        "\n",
        "steps_done = 0\n",
        "\n",
        "#EPS Greedy Action Selection\n",
        "# someitmes we use our model to choose the action, sometimes we'll just sample one uniformly\n",
        "# helps balance exploration with exploitation (picking best option)\n",
        "def select_action(state):\n",
        "    global steps_done\n",
        "    sample = random.random()\n",
        "    eps_threshold = EPS_END + (EPS_START - EPS_END) * \\\n",
        "        math.exp(-1. * steps_done / EPS_DECAY)\n",
        "    steps_done += 1\n",
        "    print(eps_threshold)\n",
        "    # print('if-statement action:', policy_net(torch.flatten(state, start_dim = 1)).max(1).indices)\n",
        "    # print('else-statement action:', torch.tensor(env.action_space.sample(), device=device, dtype=torch.long))\n",
        "    # return torch.tensor(env.action_space.sample(), device=device, dtype=torch.long) #for now just return this\n",
        "    if sample > eps_threshold:\n",
        "        print('sample > eps_threshold...')\n",
        "        with torch.no_grad():\n",
        "            # t.max(1) will return the largest column value of each row.\n",
        "            # second column on max result is index of where max element was\n",
        "            # found, so we pick action with the larger expected reward.\n",
        "            return policy_net(torch.flatten(state, start_dim = 1)).max(1).indices.view(1, 1)\n",
        "            # return policy_net(torch.flatten(state, start_dim = 1)).max(1).indices[0] #modified on 4/11 by Namrata, flattened version. Should check out Conv2d later\n",
        "\n",
        "            # return policy_net(state).max(1).indices[0:first_half].view(1, 1), policy_net(state).max(1).indices[first_half:].view(1, 1) #MR: this is what we would modify w/ what Sam suggested\n",
        "    else:\n",
        "        print('else statement of select action')\n",
        "        return torch.tensor([[env.action_space.sample()]], device=device, dtype=torch.long)\n",
        "        # return torch.tensor(env.action_space.sample(), device=device, dtype=torch.long)\n",
        "\n",
        "episode_durations = []\n",
        "\n",
        "def plot_durations(show_result=False):\n",
        "    plt.figure(1)\n",
        "    durations_t = torch.tensor(episode_durations, dtype=torch.float)\n",
        "    if show_result:\n",
        "        plt.title('Result')\n",
        "    else:\n",
        "        plt.clf()\n",
        "        plt.title('Training...')\n",
        "    plt.xlabel('Episode')\n",
        "    plt.ylabel('Duration')\n",
        "    plt.plot(durations_t.numpy())\n",
        "    # Take 100 episode averages and plot them too\n",
        "    if len(durations_t) >= 100:\n",
        "        means = durations_t.unfold(0, 100, 1).mean(1).view(-1)\n",
        "        means = torch.cat((torch.zeros(99), means))\n",
        "        plt.plot(means.numpy())\n",
        "\n",
        "    plt.pause(0.001)  # pause a bit so that plots are updated\n",
        "    if is_ipython:\n",
        "        if not show_result:\n",
        "            display.display(plt.gcf())\n",
        "            display.clear_output(wait=True)\n",
        "        else:\n",
        "            display.display(plt.gcf())\n"
      ],
      "metadata": {
        "colab": {
          "base_uri": "https://localhost:8080/"
        },
        "id": "5hZDjdus3zEK",
        "outputId": "d16e1059-b851-4238-9b1d-ee5dc0beae2c"
      },
      "execution_count": null,
      "outputs": [
        {
          "output_type": "stream",
          "name": "stdout",
          "text": [
            "num_actions: 2500\n",
            "num_observations: 3200\n"
          ]
        }
      ]
    },
    {
      "cell_type": "code",
      "source": [
        "#training loop\n",
        "\n",
        "# optimize_model() performs a single step of the optimization.\n",
        "#  1. Sample a batch\n",
        "#     Concat all the tensors into one\n",
        "#     Compute Q(s,a) and V(s_(t+1)) = maxQ(s_(t+1), a) & combine into our loss\n",
        "# 2. Set V(s) = 0 if s is a terminal state\n",
        "# 3. Use a target network to compute V(s_(t+1))\n",
        "#    Target network is updated at every step w/ a soft update (???)\n",
        "def optimize_model():\n",
        "    if len(memory) < BATCH_SIZE:\n",
        "        return\n",
        "    transitions = memory.sample(BATCH_SIZE)\n",
        "    # Transpose the batch (see https://stackoverflow.com/a/19343/3343043 for\n",
        "    # detailed explanation). This converts batch-array of Transitions\n",
        "    # to Transition of batch-arrays.\n",
        "    batch = Transition(*zip(*transitions))\n",
        "\n",
        "    # Compute a mask of non-final states and concatenate the batch elements\n",
        "    # (a final state would've been the one after which simulation ended)\n",
        "    non_final_mask = torch.tensor(tuple(map(lambda s: s is not None,\n",
        "                                          batch.next_state)), device=device, dtype=torch.bool)\n",
        "    non_final_next_states = torch.cat([s for s in batch.next_state\n",
        "                                                if s is not None])\n",
        "    print(\"**************\", len(batch.action))\n",
        "    state_batch = torch.flatten(torch.tensor(batch.state), start_dim = 1)\n",
        "    action_batch = torch.tensor(batch.action)\n",
        "    reward_batch = torch.tensor(batch.reward)\n",
        "\n",
        "    # Compute Q(s_t, a) - the model computes Q(s_t), then we select the\n",
        "    # columns of actions taken. These are the actions which would've been taken\n",
        "    # for each batch state according to policy_net\n",
        "    state_action_values = policy_net(state_batch).gather(1, action_batch)\n",
        "\n",
        "    # Compute V(s_{t+1}) for all next states.\n",
        "    # Expected values of actions for non_final_next_states are computed based\n",
        "    # on the \"older\" target_net; selecting their best reward with max(1).values\n",
        "    # This is merged based on the mask, such that we'll have either the expected\n",
        "    # state value or 0 in case the state was final.\n",
        "    next_state_values = torch.zeros(BATCH_SIZE, device=device)\n",
        "    with torch.no_grad():\n",
        "        next_state_values[non_final_mask] = target_net(non_final_next_states).max(1).values\n",
        "\n",
        "    # Compute the expected Q values\n",
        "    expected_state_action_values = (next_state_values * GAMMA) + reward_batch\n",
        "\n",
        "    # Compute Huber loss\n",
        "    criterion = nn.SmoothL1Loss()\n",
        "    loss = criterion(state_action_values, expected_state_action_values.unsqueeze(1))\n",
        "\n",
        "    # Optimize the model\n",
        "    optimizer.zero_grad()\n",
        "    loss.backward()\n",
        "    # In-place gradient clipping\n",
        "    torch.nn.utils.clip_grad_value_(policy_net.parameters(), 100)\n",
        "    optimizer.step()"
      ],
      "metadata": {
        "id": "qunCB_4l37QB",
        "colab": {
          "base_uri": "https://localhost:8080/"
        },
        "outputId": "8fb89c7e-de2d-49b1-9762-1e642e9fa877"
      },
      "execution_count": null,
      "outputs": [
        {
          "output_type": "stream",
          "name": "stderr",
          "text": [
            "/usr/local/lib/python3.10/dist-packages/ipykernel/ipkernel.py:283: DeprecationWarning: `should_run_async` will not call `transform_cell` automatically in the future. Please pass the result to `transformed_cell` argument and any exception that happen during thetransform in `preprocessing_exc_tuple` in IPython 7.17 and above.\n",
            "  and should_run_async(code)\n"
          ]
        }
      ]
    },
    {
      "cell_type": "code",
      "source": [
        "#commence training\n",
        "if torch.cuda.is_available():\n",
        "    num_episodes = 100 #100 #600\n",
        "else:\n",
        "    num_episodes = 50\n",
        "x  = 0\n",
        "for i_episode in range(num_episodes):\n",
        "    x += 1\n",
        "    # Initialize the environment and get its state\n",
        "    state = env.reset()\n",
        "    state = torch.tensor(state, dtype=torch.float32, device=device).unsqueeze(0)\n",
        "    for t in count():\n",
        "        print('Selecting an action...')\n",
        "        print('shape of state going into memory:', state.shape)\n",
        "        action_tensor = select_action(state) #exploit or explore\n",
        "        action = action_tensor.tolist()\n",
        "        print(\"&&&&&&&&&&&&&&&\", action)\n",
        "        # observation, reward, terminated, truncated, _ = env.step(action.item())\n",
        "        observation, reward, terminated, _ = env.step(action)\n",
        "        reward = torch.tensor([reward], device=device)\n",
        "        done = terminated #or truncated\n",
        "\n",
        "        if terminated:\n",
        "            next_state = None\n",
        "        else:\n",
        "            next_state = torch.tensor(observation, dtype=torch.float32, device=device).unsqueeze(0)\n",
        "\n",
        "        # Store the transition in memory\n",
        "        memory.push(state, action, next_state, reward)\n",
        "\n",
        "        # Move to the next state\n",
        "        state = next_state\n",
        "\n",
        "\n",
        "        if x >= 10 and x % 10 == 0:  # added this if statement on 04/15/2024 to see if training after every few time steps is better\n",
        "          # Perform one step of the optimization (on the policy network)\n",
        "          optimize_model()\n",
        "\n",
        "          # Soft update of the target network's weights\n",
        "          # θ′ ← τ θ + (1 −τ )θ′\n",
        "          target_net_state_dict = target_net.state_dict()\n",
        "          policy_net_state_dict = policy_net.state_dict()\n",
        "          for key in policy_net_state_dict:\n",
        "              target_net_state_dict[key] = policy_net_state_dict[key]*TAU + target_net_state_dict[key]*(1-TAU)\n",
        "          target_net.load_state_dict(target_net_state_dict)\n",
        "\n",
        "        if done:\n",
        "            episode_durations.append(t + 1)\n",
        "            # plot_durations()\n",
        "            break\n",
        "\n",
        "print('Complete')\n",
        "plot_durations(show_result=True)\n",
        "plt.ioff()\n",
        "plt.show()"
      ],
      "metadata": {
        "colab": {
          "base_uri": "https://localhost:8080/",
          "height": 1000
        },
        "id": "94XV4kt73-zd",
        "outputId": "17812733-cd36-46a6-a138-436a9d9fdd8e"
      },
      "execution_count": null,
      "outputs": [
        {
          "output_type": "stream",
          "name": "stderr",
          "text": [
            "/usr/local/lib/python3.10/dist-packages/karateclub/node_embedding/attributed/ae.py:78: DeprecationWarning: Call to deprecated `docvecs` (The `docvecs` property has been renamed `dv`.).\n",
            "  [model.docvecs[str(n)] for n in range(self.graph.number_of_nodes())]\n"
          ]
        },
        {
          "output_type": "stream",
          "name": "stdout",
          "text": [
            "Selecting an action...\n",
            "shape of state going into memory: torch.Size([1, 50, 64])\n",
            "0.4455382844955124\n",
            "sample > eps_threshold...\n",
            "&&&&&&&&&&&&&&& [[441]]\n"
          ]
        },
        {
          "output_type": "stream",
          "name": "stderr",
          "text": [
            "<ipython-input-5-96df99f8946b>:52: UserWarning: To copy construct from a tensor, it is recommended to use sourceTensor.clone().detach() or sourceTensor.clone().detach().requires_grad_(True), rather than torch.tensor(sourceTensor).\n",
            "  labels = torch.tensor(labels)\n",
            "<ipython-input-5-96df99f8946b>:52: UserWarning: To copy construct from a tensor, it is recommended to use sourceTensor.clone().detach() or sourceTensor.clone().detach().requires_grad_(True), rather than torch.tensor(sourceTensor).\n",
            "  labels = torch.tensor(labels)\n",
            "<ipython-input-5-96df99f8946b>:52: UserWarning: To copy construct from a tensor, it is recommended to use sourceTensor.clone().detach() or sourceTensor.clone().detach().requires_grad_(True), rather than torch.tensor(sourceTensor).\n",
            "  labels = torch.tensor(labels)\n",
            "<ipython-input-5-96df99f8946b>:52: UserWarning: To copy construct from a tensor, it is recommended to use sourceTensor.clone().detach() or sourceTensor.clone().detach().requires_grad_(True), rather than torch.tensor(sourceTensor).\n",
            "  labels = torch.tensor(labels)\n",
            "<ipython-input-5-96df99f8946b>:52: UserWarning: To copy construct from a tensor, it is recommended to use sourceTensor.clone().detach() or sourceTensor.clone().detach().requires_grad_(True), rather than torch.tensor(sourceTensor).\n",
            "  labels = torch.tensor(labels)\n"
          ]
        },
        {
          "output_type": "stream",
          "name": "stdout",
          "text": [
            "Accuracy =  0.49333333333333335\n",
            "Previous Return=  0.05333333333333318\n",
            "Current Return=  -0.013333333333333253\n"
          ]
        },
        {
          "output_type": "stream",
          "name": "stderr",
          "text": [
            "/usr/local/lib/python3.10/dist-packages/karateclub/node_embedding/attributed/ae.py:78: DeprecationWarning: Call to deprecated `docvecs` (The `docvecs` property has been renamed `dv`.).\n",
            "  [model.docvecs[str(n)] for n in range(self.graph.number_of_nodes())]\n"
          ]
        },
        {
          "output_type": "stream",
          "name": "stdout",
          "text": [
            "Selecting an action...\n",
            "shape of state going into memory: torch.Size([1, 50, 64])\n",
            "0.4451429439142526\n",
            "sample > eps_threshold...\n",
            "&&&&&&&&&&&&&&& [[441]]\n"
          ]
        },
        {
          "output_type": "stream",
          "name": "stderr",
          "text": [
            "<ipython-input-5-96df99f8946b>:52: UserWarning: To copy construct from a tensor, it is recommended to use sourceTensor.clone().detach() or sourceTensor.clone().detach().requires_grad_(True), rather than torch.tensor(sourceTensor).\n",
            "  labels = torch.tensor(labels)\n",
            "<ipython-input-5-96df99f8946b>:52: UserWarning: To copy construct from a tensor, it is recommended to use sourceTensor.clone().detach() or sourceTensor.clone().detach().requires_grad_(True), rather than torch.tensor(sourceTensor).\n",
            "  labels = torch.tensor(labels)\n",
            "<ipython-input-5-96df99f8946b>:52: UserWarning: To copy construct from a tensor, it is recommended to use sourceTensor.clone().detach() or sourceTensor.clone().detach().requires_grad_(True), rather than torch.tensor(sourceTensor).\n",
            "  labels = torch.tensor(labels)\n",
            "<ipython-input-5-96df99f8946b>:52: UserWarning: To copy construct from a tensor, it is recommended to use sourceTensor.clone().detach() or sourceTensor.clone().detach().requires_grad_(True), rather than torch.tensor(sourceTensor).\n",
            "  labels = torch.tensor(labels)\n",
            "<ipython-input-5-96df99f8946b>:52: UserWarning: To copy construct from a tensor, it is recommended to use sourceTensor.clone().detach() or sourceTensor.clone().detach().requires_grad_(True), rather than torch.tensor(sourceTensor).\n",
            "  labels = torch.tensor(labels)\n"
          ]
        },
        {
          "output_type": "stream",
          "name": "stdout",
          "text": [
            "Accuracy =  0.52\n",
            "Previous Return=  -0.013333333333333253\n",
            "Current Return=  0.026666666666666672\n"
          ]
        },
        {
          "output_type": "stream",
          "name": "stderr",
          "text": [
            "/usr/local/lib/python3.10/dist-packages/karateclub/node_embedding/attributed/ae.py:78: DeprecationWarning: Call to deprecated `docvecs` (The `docvecs` property has been renamed `dv`.).\n",
            "  [model.docvecs[str(n)] for n in range(self.graph.number_of_nodes())]\n"
          ]
        },
        {
          "output_type": "stream",
          "name": "stdout",
          "text": [
            "Selecting an action...\n",
            "shape of state going into memory: torch.Size([1, 50, 64])\n",
            "0.4447479984759696\n",
            "sample > eps_threshold...\n",
            "&&&&&&&&&&&&&&& [[441]]\n"
          ]
        },
        {
          "output_type": "stream",
          "name": "stderr",
          "text": [
            "<ipython-input-5-96df99f8946b>:52: UserWarning: To copy construct from a tensor, it is recommended to use sourceTensor.clone().detach() or sourceTensor.clone().detach().requires_grad_(True), rather than torch.tensor(sourceTensor).\n",
            "  labels = torch.tensor(labels)\n",
            "<ipython-input-5-96df99f8946b>:52: UserWarning: To copy construct from a tensor, it is recommended to use sourceTensor.clone().detach() or sourceTensor.clone().detach().requires_grad_(True), rather than torch.tensor(sourceTensor).\n",
            "  labels = torch.tensor(labels)\n",
            "<ipython-input-5-96df99f8946b>:52: UserWarning: To copy construct from a tensor, it is recommended to use sourceTensor.clone().detach() or sourceTensor.clone().detach().requires_grad_(True), rather than torch.tensor(sourceTensor).\n",
            "  labels = torch.tensor(labels)\n",
            "<ipython-input-5-96df99f8946b>:52: UserWarning: To copy construct from a tensor, it is recommended to use sourceTensor.clone().detach() or sourceTensor.clone().detach().requires_grad_(True), rather than torch.tensor(sourceTensor).\n",
            "  labels = torch.tensor(labels)\n",
            "<ipython-input-5-96df99f8946b>:52: UserWarning: To copy construct from a tensor, it is recommended to use sourceTensor.clone().detach() or sourceTensor.clone().detach().requires_grad_(True), rather than torch.tensor(sourceTensor).\n",
            "  labels = torch.tensor(labels)\n"
          ]
        },
        {
          "output_type": "stream",
          "name": "stdout",
          "text": [
            "Accuracy =  0.5066666666666666\n",
            "Previous Return=  0.026666666666666672\n",
            "Current Return=  -0.01333333333333342\n"
          ]
        },
        {
          "output_type": "stream",
          "name": "stderr",
          "text": [
            "/usr/local/lib/python3.10/dist-packages/karateclub/node_embedding/attributed/ae.py:78: DeprecationWarning: Call to deprecated `docvecs` (The `docvecs` property has been renamed `dv`.).\n",
            "  [model.docvecs[str(n)] for n in range(self.graph.number_of_nodes())]\n"
          ]
        },
        {
          "output_type": "stream",
          "name": "stdout",
          "text": [
            "Selecting an action...\n",
            "shape of state going into memory: torch.Size([1, 50, 64])\n",
            "0.44435344778571795\n",
            "sample > eps_threshold...\n",
            "&&&&&&&&&&&&&&& [[441]]\n"
          ]
        },
        {
          "output_type": "stream",
          "name": "stderr",
          "text": [
            "<ipython-input-5-96df99f8946b>:52: UserWarning: To copy construct from a tensor, it is recommended to use sourceTensor.clone().detach() or sourceTensor.clone().detach().requires_grad_(True), rather than torch.tensor(sourceTensor).\n",
            "  labels = torch.tensor(labels)\n",
            "<ipython-input-5-96df99f8946b>:52: UserWarning: To copy construct from a tensor, it is recommended to use sourceTensor.clone().detach() or sourceTensor.clone().detach().requires_grad_(True), rather than torch.tensor(sourceTensor).\n",
            "  labels = torch.tensor(labels)\n",
            "<ipython-input-5-96df99f8946b>:52: UserWarning: To copy construct from a tensor, it is recommended to use sourceTensor.clone().detach() or sourceTensor.clone().detach().requires_grad_(True), rather than torch.tensor(sourceTensor).\n",
            "  labels = torch.tensor(labels)\n",
            "<ipython-input-5-96df99f8946b>:52: UserWarning: To copy construct from a tensor, it is recommended to use sourceTensor.clone().detach() or sourceTensor.clone().detach().requires_grad_(True), rather than torch.tensor(sourceTensor).\n",
            "  labels = torch.tensor(labels)\n",
            "<ipython-input-5-96df99f8946b>:52: UserWarning: To copy construct from a tensor, it is recommended to use sourceTensor.clone().detach() or sourceTensor.clone().detach().requires_grad_(True), rather than torch.tensor(sourceTensor).\n",
            "  labels = torch.tensor(labels)\n"
          ]
        },
        {
          "output_type": "stream",
          "name": "stdout",
          "text": [
            "Accuracy =  0.5333333333333334\n",
            "Previous Return=  -0.01333333333333342\n",
            "Current Return=  0.02666666666666684\n"
          ]
        },
        {
          "output_type": "stream",
          "name": "stderr",
          "text": [
            "/usr/local/lib/python3.10/dist-packages/karateclub/node_embedding/attributed/ae.py:78: DeprecationWarning: Call to deprecated `docvecs` (The `docvecs` property has been renamed `dv`.).\n",
            "  [model.docvecs[str(n)] for n in range(self.graph.number_of_nodes())]\n"
          ]
        },
        {
          "output_type": "stream",
          "name": "stdout",
          "text": [
            "Selecting an action...\n",
            "shape of state going into memory: torch.Size([1, 50, 64])\n",
            "0.44395929144894697\n",
            "sample > eps_threshold...\n",
            "&&&&&&&&&&&&&&& [[441]]\n"
          ]
        },
        {
          "output_type": "stream",
          "name": "stderr",
          "text": [
            "<ipython-input-5-96df99f8946b>:52: UserWarning: To copy construct from a tensor, it is recommended to use sourceTensor.clone().detach() or sourceTensor.clone().detach().requires_grad_(True), rather than torch.tensor(sourceTensor).\n",
            "  labels = torch.tensor(labels)\n",
            "<ipython-input-5-96df99f8946b>:52: UserWarning: To copy construct from a tensor, it is recommended to use sourceTensor.clone().detach() or sourceTensor.clone().detach().requires_grad_(True), rather than torch.tensor(sourceTensor).\n",
            "  labels = torch.tensor(labels)\n",
            "<ipython-input-5-96df99f8946b>:52: UserWarning: To copy construct from a tensor, it is recommended to use sourceTensor.clone().detach() or sourceTensor.clone().detach().requires_grad_(True), rather than torch.tensor(sourceTensor).\n",
            "  labels = torch.tensor(labels)\n",
            "<ipython-input-5-96df99f8946b>:52: UserWarning: To copy construct from a tensor, it is recommended to use sourceTensor.clone().detach() or sourceTensor.clone().detach().requires_grad_(True), rather than torch.tensor(sourceTensor).\n",
            "  labels = torch.tensor(labels)\n",
            "<ipython-input-5-96df99f8946b>:52: UserWarning: To copy construct from a tensor, it is recommended to use sourceTensor.clone().detach() or sourceTensor.clone().detach().requires_grad_(True), rather than torch.tensor(sourceTensor).\n",
            "  labels = torch.tensor(labels)\n"
          ]
        },
        {
          "output_type": "stream",
          "name": "stdout",
          "text": [
            "Accuracy =  0.5466666666666666\n",
            "Previous Return=  0.02666666666666684\n",
            "Current Return=  0.013333333333333197\n"
          ]
        },
        {
          "output_type": "stream",
          "name": "stderr",
          "text": [
            "/usr/local/lib/python3.10/dist-packages/karateclub/node_embedding/attributed/ae.py:78: DeprecationWarning: Call to deprecated `docvecs` (The `docvecs` property has been renamed `dv`.).\n",
            "  [model.docvecs[str(n)] for n in range(self.graph.number_of_nodes())]\n"
          ]
        },
        {
          "output_type": "stream",
          "name": "stdout",
          "text": [
            "Selecting an action...\n",
            "shape of state going into memory: torch.Size([1, 50, 64])\n",
            "0.4435655290715003\n",
            "sample > eps_threshold...\n",
            "&&&&&&&&&&&&&&& [[441]]\n"
          ]
        },
        {
          "output_type": "stream",
          "name": "stderr",
          "text": [
            "<ipython-input-5-96df99f8946b>:52: UserWarning: To copy construct from a tensor, it is recommended to use sourceTensor.clone().detach() or sourceTensor.clone().detach().requires_grad_(True), rather than torch.tensor(sourceTensor).\n",
            "  labels = torch.tensor(labels)\n",
            "<ipython-input-5-96df99f8946b>:52: UserWarning: To copy construct from a tensor, it is recommended to use sourceTensor.clone().detach() or sourceTensor.clone().detach().requires_grad_(True), rather than torch.tensor(sourceTensor).\n",
            "  labels = torch.tensor(labels)\n",
            "<ipython-input-5-96df99f8946b>:52: UserWarning: To copy construct from a tensor, it is recommended to use sourceTensor.clone().detach() or sourceTensor.clone().detach().requires_grad_(True), rather than torch.tensor(sourceTensor).\n",
            "  labels = torch.tensor(labels)\n",
            "<ipython-input-5-96df99f8946b>:52: UserWarning: To copy construct from a tensor, it is recommended to use sourceTensor.clone().detach() or sourceTensor.clone().detach().requires_grad_(True), rather than torch.tensor(sourceTensor).\n",
            "  labels = torch.tensor(labels)\n",
            "<ipython-input-5-96df99f8946b>:52: UserWarning: To copy construct from a tensor, it is recommended to use sourceTensor.clone().detach() or sourceTensor.clone().detach().requires_grad_(True), rather than torch.tensor(sourceTensor).\n",
            "  labels = torch.tensor(labels)\n"
          ]
        },
        {
          "output_type": "stream",
          "name": "stdout",
          "text": [
            "Accuracy =  0.4533333333333333\n",
            "Previous Return=  0.013333333333333197\n",
            "Current Return=  -0.09333333333333332\n"
          ]
        },
        {
          "output_type": "stream",
          "name": "stderr",
          "text": [
            "/usr/local/lib/python3.10/dist-packages/karateclub/node_embedding/attributed/ae.py:78: DeprecationWarning: Call to deprecated `docvecs` (The `docvecs` property has been renamed `dv`.).\n",
            "  [model.docvecs[str(n)] for n in range(self.graph.number_of_nodes())]\n"
          ]
        },
        {
          "output_type": "stream",
          "name": "stdout",
          "text": [
            "Selecting an action...\n",
            "shape of state going into memory: torch.Size([1, 50, 64])\n",
            "0.4431721602596155\n",
            "sample > eps_threshold...\n",
            "&&&&&&&&&&&&&&& [[441]]\n"
          ]
        },
        {
          "output_type": "stream",
          "name": "stderr",
          "text": [
            "<ipython-input-5-96df99f8946b>:52: UserWarning: To copy construct from a tensor, it is recommended to use sourceTensor.clone().detach() or sourceTensor.clone().detach().requires_grad_(True), rather than torch.tensor(sourceTensor).\n",
            "  labels = torch.tensor(labels)\n",
            "<ipython-input-5-96df99f8946b>:52: UserWarning: To copy construct from a tensor, it is recommended to use sourceTensor.clone().detach() or sourceTensor.clone().detach().requires_grad_(True), rather than torch.tensor(sourceTensor).\n",
            "  labels = torch.tensor(labels)\n",
            "<ipython-input-5-96df99f8946b>:52: UserWarning: To copy construct from a tensor, it is recommended to use sourceTensor.clone().detach() or sourceTensor.clone().detach().requires_grad_(True), rather than torch.tensor(sourceTensor).\n",
            "  labels = torch.tensor(labels)\n",
            "<ipython-input-5-96df99f8946b>:52: UserWarning: To copy construct from a tensor, it is recommended to use sourceTensor.clone().detach() or sourceTensor.clone().detach().requires_grad_(True), rather than torch.tensor(sourceTensor).\n",
            "  labels = torch.tensor(labels)\n",
            "<ipython-input-5-96df99f8946b>:52: UserWarning: To copy construct from a tensor, it is recommended to use sourceTensor.clone().detach() or sourceTensor.clone().detach().requires_grad_(True), rather than torch.tensor(sourceTensor).\n",
            "  labels = torch.tensor(labels)\n"
          ]
        },
        {
          "output_type": "stream",
          "name": "stdout",
          "text": [
            "Accuracy =  0.4666666666666666\n",
            "Previous Return=  -0.09333333333333332\n",
            "Current Return=  0.013333333333333308\n"
          ]
        },
        {
          "output_type": "stream",
          "name": "stderr",
          "text": [
            "/usr/local/lib/python3.10/dist-packages/karateclub/node_embedding/attributed/ae.py:78: DeprecationWarning: Call to deprecated `docvecs` (The `docvecs` property has been renamed `dv`.).\n",
            "  [model.docvecs[str(n)] for n in range(self.graph.number_of_nodes())]\n"
          ]
        },
        {
          "output_type": "stream",
          "name": "stdout",
          "text": [
            "Selecting an action...\n",
            "shape of state going into memory: torch.Size([1, 50, 64])\n",
            "0.44277918461992366\n",
            "sample > eps_threshold...\n",
            "&&&&&&&&&&&&&&& [[441]]\n"
          ]
        },
        {
          "output_type": "stream",
          "name": "stderr",
          "text": [
            "<ipython-input-5-96df99f8946b>:52: UserWarning: To copy construct from a tensor, it is recommended to use sourceTensor.clone().detach() or sourceTensor.clone().detach().requires_grad_(True), rather than torch.tensor(sourceTensor).\n",
            "  labels = torch.tensor(labels)\n",
            "<ipython-input-5-96df99f8946b>:52: UserWarning: To copy construct from a tensor, it is recommended to use sourceTensor.clone().detach() or sourceTensor.clone().detach().requires_grad_(True), rather than torch.tensor(sourceTensor).\n",
            "  labels = torch.tensor(labels)\n",
            "<ipython-input-5-96df99f8946b>:52: UserWarning: To copy construct from a tensor, it is recommended to use sourceTensor.clone().detach() or sourceTensor.clone().detach().requires_grad_(True), rather than torch.tensor(sourceTensor).\n",
            "  labels = torch.tensor(labels)\n",
            "<ipython-input-5-96df99f8946b>:52: UserWarning: To copy construct from a tensor, it is recommended to use sourceTensor.clone().detach() or sourceTensor.clone().detach().requires_grad_(True), rather than torch.tensor(sourceTensor).\n",
            "  labels = torch.tensor(labels)\n",
            "<ipython-input-5-96df99f8946b>:52: UserWarning: To copy construct from a tensor, it is recommended to use sourceTensor.clone().detach() or sourceTensor.clone().detach().requires_grad_(True), rather than torch.tensor(sourceTensor).\n",
            "  labels = torch.tensor(labels)\n"
          ]
        },
        {
          "output_type": "stream",
          "name": "stdout",
          "text": [
            "Accuracy =  0.52\n",
            "Previous Return=  0.013333333333333308\n",
            "Current Return=  0.0533333333333334\n"
          ]
        },
        {
          "output_type": "stream",
          "name": "stderr",
          "text": [
            "/usr/local/lib/python3.10/dist-packages/karateclub/node_embedding/attributed/ae.py:78: DeprecationWarning: Call to deprecated `docvecs` (The `docvecs` property has been renamed `dv`.).\n",
            "  [model.docvecs[str(n)] for n in range(self.graph.number_of_nodes())]\n"
          ]
        },
        {
          "output_type": "stream",
          "name": "stdout",
          "text": [
            "Selecting an action...\n",
            "shape of state going into memory: torch.Size([1, 50, 64])\n",
            "0.4423866017594492\n",
            "sample > eps_threshold...\n",
            "&&&&&&&&&&&&&&& [[441]]\n"
          ]
        },
        {
          "output_type": "stream",
          "name": "stderr",
          "text": [
            "<ipython-input-5-96df99f8946b>:52: UserWarning: To copy construct from a tensor, it is recommended to use sourceTensor.clone().detach() or sourceTensor.clone().detach().requires_grad_(True), rather than torch.tensor(sourceTensor).\n",
            "  labels = torch.tensor(labels)\n",
            "<ipython-input-5-96df99f8946b>:52: UserWarning: To copy construct from a tensor, it is recommended to use sourceTensor.clone().detach() or sourceTensor.clone().detach().requires_grad_(True), rather than torch.tensor(sourceTensor).\n",
            "  labels = torch.tensor(labels)\n",
            "<ipython-input-5-96df99f8946b>:52: UserWarning: To copy construct from a tensor, it is recommended to use sourceTensor.clone().detach() or sourceTensor.clone().detach().requires_grad_(True), rather than torch.tensor(sourceTensor).\n",
            "  labels = torch.tensor(labels)\n",
            "<ipython-input-5-96df99f8946b>:52: UserWarning: To copy construct from a tensor, it is recommended to use sourceTensor.clone().detach() or sourceTensor.clone().detach().requires_grad_(True), rather than torch.tensor(sourceTensor).\n",
            "  labels = torch.tensor(labels)\n",
            "<ipython-input-5-96df99f8946b>:52: UserWarning: To copy construct from a tensor, it is recommended to use sourceTensor.clone().detach() or sourceTensor.clone().detach().requires_grad_(True), rather than torch.tensor(sourceTensor).\n",
            "  labels = torch.tensor(labels)\n"
          ]
        },
        {
          "output_type": "stream",
          "name": "stdout",
          "text": [
            "Accuracy =  0.48\n",
            "Previous Return=  0.0533333333333334\n",
            "Current Return=  -0.040000000000000036\n"
          ]
        },
        {
          "output_type": "stream",
          "name": "stderr",
          "text": [
            "/usr/local/lib/python3.10/dist-packages/karateclub/node_embedding/attributed/ae.py:78: DeprecationWarning: Call to deprecated `docvecs` (The `docvecs` property has been renamed `dv`.).\n",
            "  [model.docvecs[str(n)] for n in range(self.graph.number_of_nodes())]\n"
          ]
        },
        {
          "output_type": "stream",
          "name": "stdout",
          "text": [
            "Selecting an action...\n",
            "shape of state going into memory: torch.Size([1, 50, 64])\n",
            "0.44199441128560923\n",
            "sample > eps_threshold...\n",
            "&&&&&&&&&&&&&&& [[441]]\n"
          ]
        },
        {
          "output_type": "stream",
          "name": "stderr",
          "text": [
            "<ipython-input-5-96df99f8946b>:52: UserWarning: To copy construct from a tensor, it is recommended to use sourceTensor.clone().detach() or sourceTensor.clone().detach().requires_grad_(True), rather than torch.tensor(sourceTensor).\n",
            "  labels = torch.tensor(labels)\n",
            "<ipython-input-5-96df99f8946b>:52: UserWarning: To copy construct from a tensor, it is recommended to use sourceTensor.clone().detach() or sourceTensor.clone().detach().requires_grad_(True), rather than torch.tensor(sourceTensor).\n",
            "  labels = torch.tensor(labels)\n",
            "<ipython-input-5-96df99f8946b>:52: UserWarning: To copy construct from a tensor, it is recommended to use sourceTensor.clone().detach() or sourceTensor.clone().detach().requires_grad_(True), rather than torch.tensor(sourceTensor).\n",
            "  labels = torch.tensor(labels)\n",
            "<ipython-input-5-96df99f8946b>:52: UserWarning: To copy construct from a tensor, it is recommended to use sourceTensor.clone().detach() or sourceTensor.clone().detach().requires_grad_(True), rather than torch.tensor(sourceTensor).\n",
            "  labels = torch.tensor(labels)\n",
            "<ipython-input-5-96df99f8946b>:52: UserWarning: To copy construct from a tensor, it is recommended to use sourceTensor.clone().detach() or sourceTensor.clone().detach().requires_grad_(True), rather than torch.tensor(sourceTensor).\n",
            "  labels = torch.tensor(labels)\n"
          ]
        },
        {
          "output_type": "stream",
          "name": "stdout",
          "text": [
            "Accuracy =  0.4533333333333333\n",
            "Previous Return=  -0.040000000000000036\n",
            "Current Return=  -0.026666666666666672\n",
            "************** 128\n"
          ]
        },
        {
          "output_type": "error",
          "ename": "TypeError",
          "evalue": "flatten(): argument 'input' (position 1) must be Tensor, not tuple",
          "traceback": [
            "\u001b[0;31m---------------------------------------------------------------------------\u001b[0m",
            "\u001b[0;31mTypeError\u001b[0m                                 Traceback (most recent call last)",
            "\u001b[0;32m<ipython-input-44-257f4b760653>\u001b[0m in \u001b[0;36m<cell line: 7>\u001b[0;34m()\u001b[0m\n\u001b[1;32m     35\u001b[0m         \u001b[0;32mif\u001b[0m \u001b[0mx\u001b[0m \u001b[0;34m>=\u001b[0m \u001b[0;36m10\u001b[0m \u001b[0;32mand\u001b[0m \u001b[0mx\u001b[0m \u001b[0;34m%\u001b[0m \u001b[0;36m10\u001b[0m \u001b[0;34m==\u001b[0m \u001b[0;36m0\u001b[0m\u001b[0;34m:\u001b[0m  \u001b[0;31m# added this if statement on 04/15/2024 to see if training after every few time steps is better\u001b[0m\u001b[0;34m\u001b[0m\u001b[0;34m\u001b[0m\u001b[0m\n\u001b[1;32m     36\u001b[0m           \u001b[0;31m# Perform one step of the optimization (on the policy network)\u001b[0m\u001b[0;34m\u001b[0m\u001b[0;34m\u001b[0m\u001b[0m\n\u001b[0;32m---> 37\u001b[0;31m           \u001b[0moptimize_model\u001b[0m\u001b[0;34m(\u001b[0m\u001b[0;34m)\u001b[0m\u001b[0;34m\u001b[0m\u001b[0;34m\u001b[0m\u001b[0m\n\u001b[0m\u001b[1;32m     38\u001b[0m \u001b[0;34m\u001b[0m\u001b[0m\n\u001b[1;32m     39\u001b[0m           \u001b[0;31m# Soft update of the target network's weights\u001b[0m\u001b[0;34m\u001b[0m\u001b[0;34m\u001b[0m\u001b[0m\n",
            "\u001b[0;32m<ipython-input-43-fa8c6de7ad1f>\u001b[0m in \u001b[0;36moptimize_model\u001b[0;34m()\u001b[0m\n\u001b[1;32m     24\u001b[0m                                                 if s is not None])\n\u001b[1;32m     25\u001b[0m     \u001b[0mprint\u001b[0m\u001b[0;34m(\u001b[0m\u001b[0;34m\"**************\"\u001b[0m\u001b[0;34m,\u001b[0m \u001b[0mlen\u001b[0m\u001b[0;34m(\u001b[0m\u001b[0mbatch\u001b[0m\u001b[0;34m.\u001b[0m\u001b[0maction\u001b[0m\u001b[0;34m)\u001b[0m\u001b[0;34m)\u001b[0m\u001b[0;34m\u001b[0m\u001b[0;34m\u001b[0m\u001b[0m\n\u001b[0;32m---> 26\u001b[0;31m     \u001b[0mstate_batch\u001b[0m \u001b[0;34m=\u001b[0m \u001b[0mtorch\u001b[0m\u001b[0;34m.\u001b[0m\u001b[0mflatten\u001b[0m\u001b[0;34m(\u001b[0m\u001b[0;34m(\u001b[0m\u001b[0mbatch\u001b[0m\u001b[0;34m.\u001b[0m\u001b[0mstate\u001b[0m\u001b[0;34m)\u001b[0m\u001b[0;34m,\u001b[0m \u001b[0mstart_dim\u001b[0m \u001b[0;34m=\u001b[0m \u001b[0;36m1\u001b[0m\u001b[0;34m)\u001b[0m\u001b[0;34m\u001b[0m\u001b[0;34m\u001b[0m\u001b[0m\n\u001b[0m\u001b[1;32m     27\u001b[0m     \u001b[0maction_batch\u001b[0m \u001b[0;34m=\u001b[0m \u001b[0mtorch\u001b[0m\u001b[0;34m.\u001b[0m\u001b[0mtensor\u001b[0m\u001b[0;34m(\u001b[0m\u001b[0mbatch\u001b[0m\u001b[0;34m.\u001b[0m\u001b[0maction\u001b[0m\u001b[0;34m)\u001b[0m\u001b[0;34m\u001b[0m\u001b[0;34m\u001b[0m\u001b[0m\n\u001b[1;32m     28\u001b[0m     \u001b[0mreward_batch\u001b[0m \u001b[0;34m=\u001b[0m \u001b[0mtorch\u001b[0m\u001b[0;34m.\u001b[0m\u001b[0mtensor\u001b[0m\u001b[0;34m(\u001b[0m\u001b[0mbatch\u001b[0m\u001b[0;34m.\u001b[0m\u001b[0mreward\u001b[0m\u001b[0;34m)\u001b[0m\u001b[0;34m\u001b[0m\u001b[0;34m\u001b[0m\u001b[0m\n",
            "\u001b[0;31mTypeError\u001b[0m: flatten(): argument 'input' (position 1) must be Tensor, not tuple"
          ]
        }
      ]
    },
    {
      "cell_type": "code",
      "source": [
        "run_classification(env.state, labels_sim, timeseries = False, r = 0, train_size = 0.7, dim = 64, nclasses = 2, device = device)"
      ],
      "metadata": {
        "colab": {
          "base_uri": "https://localhost:8080/",
          "height": 141
        },
        "id": "2fx2CJ0o7VGf",
        "outputId": "a0b45f87-e67a-42bd-d324-b9f4467befdf"
      },
      "execution_count": null,
      "outputs": [
        {
          "output_type": "error",
          "ename": "NameError",
          "evalue": "name 'run_classification' is not defined",
          "traceback": [
            "\u001b[0;31m---------------------------------------------------------------------------\u001b[0m",
            "\u001b[0;31mNameError\u001b[0m                                 Traceback (most recent call last)",
            "\u001b[0;32m<ipython-input-1-b8e9120f4db6>\u001b[0m in \u001b[0;36m<cell line: 1>\u001b[0;34m()\u001b[0m\n\u001b[0;32m----> 1\u001b[0;31m \u001b[0mrun_classification\u001b[0m\u001b[0;34m(\u001b[0m\u001b[0menv\u001b[0m\u001b[0;34m.\u001b[0m\u001b[0mstate\u001b[0m\u001b[0;34m,\u001b[0m \u001b[0mlabels_sim\u001b[0m\u001b[0;34m,\u001b[0m \u001b[0mtimeseries\u001b[0m \u001b[0;34m=\u001b[0m \u001b[0;32mFalse\u001b[0m\u001b[0;34m,\u001b[0m \u001b[0mr\u001b[0m \u001b[0;34m=\u001b[0m \u001b[0;36m0\u001b[0m\u001b[0;34m,\u001b[0m \u001b[0mtrain_size\u001b[0m \u001b[0;34m=\u001b[0m \u001b[0;36m0.7\u001b[0m\u001b[0;34m,\u001b[0m \u001b[0mdim\u001b[0m \u001b[0;34m=\u001b[0m \u001b[0;36m64\u001b[0m\u001b[0;34m,\u001b[0m \u001b[0mnclasses\u001b[0m \u001b[0;34m=\u001b[0m \u001b[0;36m2\u001b[0m\u001b[0;34m,\u001b[0m \u001b[0mdevice\u001b[0m \u001b[0;34m=\u001b[0m \u001b[0mdevice\u001b[0m\u001b[0;34m)\u001b[0m\u001b[0;34m\u001b[0m\u001b[0;34m\u001b[0m\u001b[0m\n\u001b[0m",
            "\u001b[0;31mNameError\u001b[0m: name 'run_classification' is not defined"
          ]
        }
      ]
    },
    {
      "cell_type": "code",
      "source": [
        "3200*128"
      ],
      "metadata": {
        "colab": {
          "base_uri": "https://localhost:8080/"
        },
        "id": "77DgtP10hwMJ",
        "outputId": "495a5f9f-1660-4c73-8ec8-60fd669a565b"
      },
      "execution_count": null,
      "outputs": [
        {
          "output_type": "execute_result",
          "data": {
            "text/plain": [
              "409600"
            ]
          },
          "metadata": {},
          "execution_count": 25
        }
      ]
    },
    {
      "cell_type": "code",
      "source": [],
      "metadata": {
        "id": "aXU07tLKUSBn"
      },
      "execution_count": null,
      "outputs": []
    }
  ],
  "metadata": {
    "colab": {
      "provenance": [],
      "machine_shape": "hm",
      "gpuType": "T4"
    },
    "kernelspec": {
      "display_name": "Python 3",
      "name": "python3"
    },
    "language_info": {
      "name": "python"
    },
    "accelerator": "GPU"
  },
  "nbformat": 4,
  "nbformat_minor": 0
}